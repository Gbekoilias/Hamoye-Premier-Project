{
 "cells": [
  {
   "cell_type": "code",
   "execution_count": 21,
   "id": "b44bce58",
   "metadata": {},
   "outputs": [
    {
     "name": "stdout",
     "output_type": "stream",
     "text": [
      "Dash app running on http://127.0.0.1:8896/\n"
     ]
    },
    {
     "data": {
      "application/javascript": [
       "window.open('http://127.0.0.1:8896/')"
      ],
      "text/plain": [
       "<IPython.core.display.Javascript object>"
      ]
     },
     "metadata": {},
     "output_type": "display_data"
    }
   ],
   "source": [
    "import dash\n",
    "import dash_core_components as dcc\n",
    "import dash_html_components as html\n",
    "from dash.dependencies import Input, Output\n",
    "import pandas as pd\n",
    "import pickle\n",
    "import numpy as np\n",
    "\n",
    "import base64  # Import the base64 module\n",
    "import io\n",
    "\n",
    "# Initialize your Dash app\n",
    "app = dash.Dash(__name__)\n",
    "\n",
    "# Define the app layout\n",
    "\n",
    "app.layout = html.Div([\n",
    "    html.H1(\"Theme: Food Security and Access- to prevent malnutrition\"),\n",
    "    html.H2(\" \"),\n",
    "    html.H2(\"Topic: Food accessibility and Profitability\"),\n",
    "    html.H2(\" \"),\n",
    "    html.H2(\"Group Names: ML-Explorer\"),\n",
    "    html.H2(\" \"),\n",
    "    dcc.Markdown('''\n",
    "        ## A prediction app to accurately assess the factors contributing to food accessibility and profitability\n",
    "\n",
    "        For farming households in Africa, by identifying the crucial determinants affecting food accessibility and profitability, thereby providing insights that can inform policymakers, non-governmental organisations, and other stakeholders in the agricultural sector. Through this prediction app, we seek to contribute to the advancement of sustainable agricultural practices and the improvement of food security in the region.\n",
    "    '''),\n",
    "    dcc.Upload(\n",
    "        id='upload-data',\n",
    "        children=html.Div([\n",
    "            'Drag and Drop or ',\n",
    "            html.A('Select Files')\n",
    "        ]),\n",
    "        style={\n",
    "                'width': '100%',\n",
    "                'height': '60px',\n",
    "                'lineHeight': '60px',\n",
    "                'borderWidth': '1px',\n",
    "                'borderStyle': 'dashed',\n",
    "                'borderRadius': '5px',\n",
    "                'textAlign': 'center',\n",
    "                'margin': '10px'\n",
    "            },\n",
    "        multiple=False  # Set to True if you want to allow multiple files\n",
    "    ),\n",
    "    html.Div(id='output-prediction')\n",
    "])\n",
    "\n",
    "# Load your trained model and other necessary data (e.g., label encoders) here\n",
    "input_file = \"model_gmb_1.pkl\"\n",
    "input_file2 = \"le_1.pkl\"\n",
    "\n",
    "with open(input_file, 'rb') as f_in: \n",
    "    model = pickle.load(f_in)\n",
    "    \n",
    "with open(input_file2, 'rb') as f_in: \n",
    "    le = pickle.load(f_in)\n",
    "    \n",
    "# Define a callback to handle the file upload and perform prediction\n",
    "@app.callback(Output('output-prediction', 'children'), [Input('upload-data', 'contents')])\n",
    "def predict_file(contents):\n",
    "    if contents is not None:\n",
    "        content_type, content_string = contents.split(',')\n",
    "        decoded = base64.b64decode(content_string)\n",
    "        uploaded_data = pd.read_csv(io.StringIO(decoded.decode('utf-8')))\n",
    "        \n",
    "        df = uploaded_data\n",
    "        \n",
    "        # Perform any necessary data preprocessing (e.g., using label encoders)\n",
    "        df.dropna(subset = [\"s1quant_sold\"], inplace = True)\n",
    "        uploaded_data.dropna(subset = [\"s1quant_sold\"], inplace = True)\n",
    "        del df[\"hhcode\"]\n",
    "        \n",
    "        \n",
    "        num_cols = df.select_dtypes(\"number\").columns\n",
    "        cat_cols = df.select_dtypes(\"object\").columns\n",
    "        \n",
    "        # Fill missing values\n",
    "        for col in num_cols:\n",
    "            df[col].fillna(0, inplace = True)\n",
    "\n",
    "        for c in cat_cols:\n",
    "            nam = 'Unknown_%s' % c\n",
    "            df[c].fillna(nam, inplace = True)\n",
    "\n",
    "        for c in df.select_dtypes(\"object\").columns:\n",
    "            #perform label encoding Dataset\n",
    "            df[c] = le.fit_transform(df[c])\n",
    "            \n",
    "        del df[\"s1quant_sold\"]\n",
    "        feat = ['Country', 'Region', 'fsystem1', 'tenure1', 'yearsuse1', 'rentplot1', 's1start', 's1end', \n",
    "                'seas1nam', 's1plant_data', 's1land_area', 's1quant_harv', 's1consumed', 's1livestock',\n",
    "                's1lost', 's1market', 's1crop_val', 's1no_seed', 'pc1', 'nyieldc1', 's1irrig1',\n",
    "                's1irrig2', 's1irrig3', 's1irrig4', 's1pest', 's1wat1', 's1wat2', 's1wat3', 's1wat4', 's1wat5',\n",
    "                'costkgfert', 'costkgpest', 'distsmktkm', 'distsmkthr', 'distpmktkm', 'distpmkthr', 'transport',\n",
    "                'cost1crop', 'cost2crop', 'cost3crop', 'cost5crop', 'farmingexperience', 'ad711', 'ad718', 'ad7111',\n",
    "                'ad7116', 'ad7120', 'ad732', 'ad742', 'ad7511', 'ad7610', 'ad7613', 'ad7624']\n",
    "        df = df[feat]\n",
    "        \n",
    "        # Make predictions using the loaded model\n",
    "        predictions = model.predict(df)\n",
    "        result = np.expm1(predictions).round(2)\n",
    "        uploaded_data[\"Predictions\"] = result\n",
    "        # saving the dataframe\n",
    "        uploaded_data.to_csv('C:\\\\Users\\\\USER\\\\Desktop\\\\WORKPLACE\\\\HAMOYE INTERSHIP CODES\\\\Premier project\\Hamoye_Pred.csv')\n",
    "\n",
    "        \n",
    "        # Display the predictions as HTML or in a table\n",
    "        return html.Div([\n",
    "            html.H4('Predicted values SAVED to disk as \"Hamoye_Pred.csv\".'),\n",
    "            html.Table(\n",
    "    \n",
    "                # Create a table or HTML element to display the predictions\n",
    "            )\n",
    "        ])\n",
    "    else:\n",
    "        return 'Upload a file to make predictions'\n",
    "\n",
    "if __name__ == '__main__':\n",
    "    app.run(debug = True, jupyter_mode=\"tab\", port = '8896')"
   ]
  },
  {
   "cell_type": "code",
   "execution_count": 20,
   "id": "84f81a20",
   "metadata": {},
   "outputs": [
    {
     "name": "stdout",
     "output_type": "stream",
     "text": [
      "Note: you may need to restart the kernel to use updated packages.\n"
     ]
    }
   ],
   "source": [
    "pip freeze > requirements.txt"
   ]
  },
  {
   "cell_type": "code",
   "execution_count": null,
   "id": "0bb580a6",
   "metadata": {},
   "outputs": [],
   "source": []
  }
 ],
 "metadata": {
  "kernelspec": {
   "display_name": "Python 3 (ipykernel)",
   "language": "python",
   "name": "python3"
  },
  "language_info": {
   "codemirror_mode": {
    "name": "ipython",
    "version": 3
   },
   "file_extension": ".py",
   "mimetype": "text/x-python",
   "name": "python",
   "nbconvert_exporter": "python",
   "pygments_lexer": "ipython3",
   "version": "3.11.4"
  }
 },
 "nbformat": 4,
 "nbformat_minor": 5
}
